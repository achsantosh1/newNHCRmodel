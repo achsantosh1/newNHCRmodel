{
 "cells": [
  {
   "cell_type": "code",
   "execution_count": 1,
   "id": "5c81abb4",
   "metadata": {},
   "outputs": [],
   "source": [
    "import os \n",
    "import numpy as np\n",
    "import keras\n",
    "import tensorflow\n",
    "import sys\n",
    "from PIL import Image\n",
    "from tensorflow.keras.preprocessing.image import ImageDataGenerator\n",
    "from tensorflow.keras.layers import Conv2D, MaxPooling2D, Dropout, Activation\n",
    "from tensorflow.keras.layers import Flatten, Dense, Activation\n",
    "from tensorflow.keras.optimizers import SGD, Adam\n",
    "from tensorflow.keras.models import Sequential\n",
    "from tensorflow.keras.callbacks import EarlyStopping, ModelCheckpoint\n",
    "import matplotlib.pyplot as plt\n",
    "import time"
   ]
  },
  {
   "cell_type": "code",
   "execution_count": 2,
   "id": "989d9daf",
   "metadata": {},
   "outputs": [
    {
     "name": "stdout",
     "output_type": "stream",
     "text": [
      "character_32_patalosaw\n",
      "['character_10_yna', 'character_11_taamatar', 'character_12_thaa', 'character_13_daa', 'character_14_dhaa', 'character_15_adna', 'character_16_tabala', 'character_17_tha', 'character_18_da', 'character_19_dha', 'character_1_ka', 'character_20_na', 'character_21_pa', 'character_22_pha', 'character_23_ba', 'character_24_bha', 'character_25_ma', 'character_26_yaw', 'character_27_ra', 'character_28_la', 'character_29_waw', 'character_2_kha', 'character_30_motosaw', 'character_31_petchiryakha', 'character_32_patalosaw', 'character_33_ha', 'character_34_chhya', 'character_35_tra', 'character_36_gya', 'character_3_ga', 'character_4_gha', 'character_5_kna', 'character_6_cha', 'character_7_chha', 'character_8_ja', 'character_9_jha', 'digit_0', 'digit_1', 'digit_2', 'digit_3', 'digit_4', 'digit_5', 'digit_6', 'digit_7', 'digit_8', 'digit_9']\n"
     ]
    }
   ],
   "source": [
    "current_dir = os.getcwd()\n",
    "train_dir = os.path.join(current_dir, 'Train')\n",
    "\n",
    "test_dir = os.path.join(current_dir, 'Test')\n",
    "\n",
    "train_datasets = os.listdir(train_dir)\n",
    "test_datasets = os.listdir(test_dir)\n",
    "print(test_datasets[24])\n",
    "print(train_datasets)"
   ]
  },
  {
   "cell_type": "code",
   "execution_count": 3,
   "id": "d9fa0810",
   "metadata": {},
   "outputs": [
    {
     "name": "stdout",
     "output_type": "stream",
     "text": [
      "78200\n",
      "13800\n"
     ]
    }
   ],
   "source": [
    "# counting the data\n",
    "train_dataset_count = 0\n",
    "for i in train_datasets:\n",
    "    data_path = os.path.join(train_dir, str(i))\n",
    "    train_dataset_count += len(os.listdir(data_path))   \n",
    "print(train_dataset_count)\n",
    "\n",
    "test_dataset_count = 0\n",
    "for i in test_datasets:\n",
    "    data_path = os.path.join(test_dir, str(i))\n",
    "    test_dataset_count += len(os.listdir(data_path))   \n",
    "print(test_dataset_count)"
   ]
  },
  {
   "cell_type": "code",
   "execution_count": 4,
   "id": "49dc9904",
   "metadata": {},
   "outputs": [],
   "source": [
    "batch_size = 1\n",
    "img_rows, img_cols = 32,32\n",
    "epochs = 100"
   ]
  },
  {
   "cell_type": "code",
   "execution_count": 5,
   "id": "138dbb4d",
   "metadata": {},
   "outputs": [
    {
     "name": "stdout",
     "output_type": "stream",
     "text": [
      "Found 78200 images belonging to 46 classes.\n",
      "Found 13800 images belonging to 46 classes.\n"
     ]
    }
   ],
   "source": [
    "train_datagen = ImageDataGenerator(\n",
    "    rescale=1./255,\n",
    "    zoom_range=0.2,\n",
    "    fill_mode='nearest'\n",
    ")\n",
    "\n",
    "train_generator = train_datagen.flow_from_directory(\n",
    "    train_dir,\n",
    "    color_mode='grayscale',\n",
    "    target_size=(img_rows, img_cols),\n",
    "    batch_size=batch_size,\n",
    "    class_mode='categorical'\n",
    ")\n",
    "\n",
    "test_datagen = ImageDataGenerator(rescale=1./255)\n",
    "\n",
    "test_generator = train_datagen.flow_from_directory(\n",
    "    test_dir,\n",
    "    color_mode='grayscale',\n",
    "    target_size=(img_rows, img_cols),\n",
    "    batch_size=batch_size,\n",
    "    class_mode='categorical'\n",
    ")\n",
    "\n"
   ]
  },
  {
   "cell_type": "code",
   "execution_count": 6,
   "id": "3f197eaa",
   "metadata": {},
   "outputs": [],
   "source": [
    "model = Sequential()\n",
    "\n",
    "model.add(Conv2D(filters=32, kernel_size=(5,5),activation='relu',input_shape=(img_rows, img_cols, 1)))\n",
    "model.add(MaxPooling2D(pool_size=(2,2)))\n",
    "\n",
    "model.add(Conv2D(filters=32, kernel_size=(3,3), activation='relu'))\n",
    "model.add(MaxPooling2D(pool_size=(2,2)))\n",
    "model.add(Dropout(rate=0.25))\n",
    "\n",
    "model.add(Flatten())\n",
    "model.add(Dense(units=128, activation='relu'))\n",
    "\n",
    "model.add(Dense(units=len(train_datasets), activation='softmax'))"
   ]
  },
  {
   "cell_type": "code",
   "execution_count": 7,
   "id": "679e20b9",
   "metadata": {},
   "outputs": [
    {
     "name": "stdout",
     "output_type": "stream",
     "text": [
      "Model: \"sequential\"\n",
      "_________________________________________________________________\n",
      " Layer (type)                Output Shape              Param #   \n",
      "=================================================================\n",
      " conv2d (Conv2D)             (None, 28, 28, 32)        832       \n",
      "                                                                 \n",
      " max_pooling2d (MaxPooling2D  (None, 14, 14, 32)       0         \n",
      " )                                                               \n",
      "                                                                 \n",
      " conv2d_1 (Conv2D)           (None, 12, 12, 32)        9248      \n",
      "                                                                 \n",
      " max_pooling2d_1 (MaxPooling  (None, 6, 6, 32)         0         \n",
      " 2D)                                                             \n",
      "                                                                 \n",
      " dropout (Dropout)           (None, 6, 6, 32)          0         \n",
      "                                                                 \n",
      " flatten (Flatten)           (None, 1152)              0         \n",
      "                                                                 \n",
      " dense (Dense)               (None, 128)               147584    \n",
      "                                                                 \n",
      " dense_1 (Dense)             (None, 46)                5934      \n",
      "                                                                 \n",
      "=================================================================\n",
      "Total params: 163,598\n",
      "Trainable params: 163,598\n",
      "Non-trainable params: 0\n",
      "_________________________________________________________________\n"
     ]
    }
   ],
   "source": [
    "model.summary()"
   ]
  },
  {
   "cell_type": "code",
   "execution_count": 8,
   "id": "f4d2b28c",
   "metadata": {},
   "outputs": [],
   "source": [
    "early_stop = EarlyStopping(monitor='val_accuracy',\n",
    "                          min_delta=0,\n",
    "                           patience=10,\n",
    "                           verbose=1,\n",
    "                           mode='max',\n",
    "                           restore_best_weights=True\n",
    "                          )\n",
    "check_point = ModelCheckpoint(\n",
    "    'Handwritten_OCR.h5',\n",
    "    monitor='val_accuracy',\n",
    "    mode='max',\n",
    "    save_best_only=True,\n",
    "    verbose=1\n",
    ")\n",
    "\n",
    "callbacks=[check_point, early_stop]"
   ]
  },
  {
   "cell_type": "code",
   "execution_count": 10,
   "id": "2448b15b",
   "metadata": {},
   "outputs": [],
   "source": [
    "model.compile(loss='categorical_crossentropy',\n",
    "            metrics=['accuracy'],\n",
    "            optimizer=Adam(learning_rate=0.001)\n",
    "             )"
   ]
  },
  {
   "cell_type": "code",
   "execution_count": 11,
   "id": "2eaad56a",
   "metadata": {},
   "outputs": [
    {
     "name": "stderr",
     "output_type": "stream",
     "text": [
      "C:\\Users\\SantoshAcharya\\AppData\\Local\\Temp\\ipykernel_5796\\2093967274.py:2: UserWarning: `Model.fit_generator` is deprecated and will be removed in a future version. Please use `Model.fit`, which supports generators.\n",
      "  history = model.fit_generator(\n"
     ]
    },
    {
     "name": "stdout",
     "output_type": "stream",
     "text": [
      "Epoch 1/100\n",
      "78194/78200 [============================>.] - ETA: 0s - loss: 0.5656 - accuracy: 0.8329\n",
      "Epoch 1: val_accuracy improved from -inf to 0.92464, saving model to Handwritten_OCR.h5\n",
      "78200/78200 [==============================] - 678s 9ms/step - loss: 0.5656 - accuracy: 0.8329 - val_loss: 0.2506 - val_accuracy: 0.9246\n",
      "Epoch 2/100\n",
      "78195/78200 [============================>.] - ETA: 0s - loss: 0.3194 - accuracy: 0.9072\n",
      "Epoch 2: val_accuracy improved from 0.92464 to 0.94167, saving model to Handwritten_OCR.h5\n",
      "78200/78200 [==============================] - 635s 8ms/step - loss: 0.3194 - accuracy: 0.9072 - val_loss: 0.1952 - val_accuracy: 0.9417\n",
      "Epoch 3/100\n",
      "78195/78200 [============================>.] - ETA: 0s - loss: 0.2997 - accuracy: 0.9152\n",
      "Epoch 3: val_accuracy improved from 0.94167 to 0.94268, saving model to Handwritten_OCR.h5\n",
      "78200/78200 [==============================] - 678s 9ms/step - loss: 0.2997 - accuracy: 0.9152 - val_loss: 0.2009 - val_accuracy: 0.9427\n",
      "Epoch 4/100\n",
      "78192/78200 [============================>.] - ETA: 0s - loss: 0.2925 - accuracy: 0.9200\n",
      "Epoch 4: val_accuracy improved from 0.94268 to 0.94471, saving model to Handwritten_OCR.h5\n",
      "78200/78200 [==============================] - 519s 7ms/step - loss: 0.2925 - accuracy: 0.9200 - val_loss: 0.2029 - val_accuracy: 0.9447\n",
      "Epoch 5/100\n",
      "78195/78200 [============================>.] - ETA: 0s - loss: 0.2953 - accuracy: 0.9195\n",
      "Epoch 5: val_accuracy improved from 0.94471 to 0.94580, saving model to Handwritten_OCR.h5\n",
      "78200/78200 [==============================] - 495s 6ms/step - loss: 0.2953 - accuracy: 0.9195 - val_loss: 0.2042 - val_accuracy: 0.9458\n",
      "Epoch 6/100\n",
      "78198/78200 [============================>.] - ETA: 0s - loss: 0.2843 - accuracy: 0.9236\n",
      "Epoch 6: val_accuracy did not improve from 0.94580\n",
      "78200/78200 [==============================] - 640s 8ms/step - loss: 0.2843 - accuracy: 0.9236 - val_loss: 0.2348 - val_accuracy: 0.9457\n",
      "Epoch 7/100\n",
      "78196/78200 [============================>.] - ETA: 0s - loss: 0.2926 - accuracy: 0.9221\n",
      "Epoch 7: val_accuracy did not improve from 0.94580\n",
      "78200/78200 [==============================] - 747s 10ms/step - loss: 0.2927 - accuracy: 0.9221 - val_loss: 0.2500 - val_accuracy: 0.9424\n",
      "Epoch 8/100\n",
      "78199/78200 [============================>.] - ETA: 0s - loss: 0.3032 - accuracy: 0.9215\n",
      "Epoch 8: val_accuracy did not improve from 0.94580\n",
      "78200/78200 [==============================] - 547s 7ms/step - loss: 0.3032 - accuracy: 0.9215 - val_loss: 0.2236 - val_accuracy: 0.9423\n",
      "Epoch 9/100\n",
      "78196/78200 [============================>.] - ETA: 0s - loss: 0.3036 - accuracy: 0.9229\n",
      "Epoch 9: val_accuracy did not improve from 0.94580\n",
      "78200/78200 [==============================] - 507s 6ms/step - loss: 0.3036 - accuracy: 0.9229 - val_loss: 0.2141 - val_accuracy: 0.9453\n",
      "Epoch 10/100\n",
      "78192/78200 [============================>.] - ETA: 0s - loss: 0.3074 - accuracy: 0.9223\n",
      "Epoch 10: val_accuracy did not improve from 0.94580\n",
      "78200/78200 [==============================] - 577s 7ms/step - loss: 0.3073 - accuracy: 0.9223 - val_loss: 0.2196 - val_accuracy: 0.9425\n",
      "Epoch 11/100\n",
      "78197/78200 [============================>.] - ETA: 0s - loss: 0.3131 - accuracy: 0.9214\n",
      "Epoch 11: val_accuracy improved from 0.94580 to 0.95116, saving model to Handwritten_OCR.h5\n",
      "78200/78200 [==============================] - 629s 8ms/step - loss: 0.3131 - accuracy: 0.9214 - val_loss: 0.1965 - val_accuracy: 0.9512\n",
      "Epoch 12/100\n",
      "78197/78200 [============================>.] - ETA: 0s - loss: 0.3302 - accuracy: 0.9178\n",
      "Epoch 12: val_accuracy did not improve from 0.95116\n",
      "78200/78200 [==============================] - 454s 6ms/step - loss: 0.3302 - accuracy: 0.9178 - val_loss: 0.2356 - val_accuracy: 0.9342\n",
      "Epoch 13/100\n",
      "78197/78200 [============================>.] - ETA: 0s - loss: 0.3296 - accuracy: 0.9187\n",
      "Epoch 13: val_accuracy did not improve from 0.95116\n",
      "78200/78200 [==============================] - 390s 5ms/step - loss: 0.3296 - accuracy: 0.9187 - val_loss: 0.2584 - val_accuracy: 0.9268\n",
      "Epoch 14/100\n",
      "78193/78200 [============================>.] - ETA: 0s - loss: 0.3365 - accuracy: 0.9176\n",
      "Epoch 14: val_accuracy did not improve from 0.95116\n",
      "78200/78200 [==============================] - 411s 5ms/step - loss: 0.3365 - accuracy: 0.9176 - val_loss: 0.2510 - val_accuracy: 0.9396\n",
      "Epoch 15/100\n",
      "78194/78200 [============================>.] - ETA: 0s - loss: 0.3394 - accuracy: 0.9174\n",
      "Epoch 15: val_accuracy improved from 0.95116 to 0.95304, saving model to Handwritten_OCR.h5\n",
      "78200/78200 [==============================] - 695s 9ms/step - loss: 0.3393 - accuracy: 0.9174 - val_loss: 0.2197 - val_accuracy: 0.9530\n",
      "Epoch 16/100\n",
      "78198/78200 [============================>.] - ETA: 0s - loss: 0.3444 - accuracy: 0.9167\n",
      "Epoch 16: val_accuracy did not improve from 0.95304\n",
      "78200/78200 [==============================] - 708s 9ms/step - loss: 0.3443 - accuracy: 0.9167 - val_loss: 0.2993 - val_accuracy: 0.9244\n",
      "Epoch 17/100\n",
      "78200/78200 [==============================] - ETA: 0s - loss: 0.3617 - accuracy: 0.9148\n",
      "Epoch 17: val_accuracy did not improve from 0.95304\n",
      "78200/78200 [==============================] - 805s 10ms/step - loss: 0.3617 - accuracy: 0.9148 - val_loss: 0.2821 - val_accuracy: 0.9360\n",
      "Epoch 18/100\n",
      "78191/78200 [============================>.] - ETA: 0s - loss: 0.3690 - accuracy: 0.9138\n",
      "Epoch 18: val_accuracy did not improve from 0.95304\n",
      "78200/78200 [==============================] - 496s 6ms/step - loss: 0.3690 - accuracy: 0.9138 - val_loss: 0.2416 - val_accuracy: 0.9401\n",
      "Epoch 19/100\n",
      "78191/78200 [============================>.] - ETA: 0s - loss: 0.3715 - accuracy: 0.9144\n",
      "Epoch 19: val_accuracy did not improve from 0.95304\n",
      "78200/78200 [==============================] - 503s 6ms/step - loss: 0.3717 - accuracy: 0.9144 - val_loss: 0.3342 - val_accuracy: 0.9347\n",
      "Epoch 20/100\n",
      "78196/78200 [============================>.] - ETA: 0s - loss: 0.3878 - accuracy: 0.9109\n",
      "Epoch 20: val_accuracy did not improve from 0.95304\n",
      "78200/78200 [==============================] - 397s 5ms/step - loss: 0.3878 - accuracy: 0.9109 - val_loss: 0.2467 - val_accuracy: 0.9466\n",
      "Epoch 21/100\n",
      "78197/78200 [============================>.] - ETA: 0s - loss: 0.3857 - accuracy: 0.9120\n",
      "Epoch 21: val_accuracy did not improve from 0.95304\n",
      "78200/78200 [==============================] - 384s 5ms/step - loss: 0.3857 - accuracy: 0.9120 - val_loss: 0.2453 - val_accuracy: 0.9420\n",
      "Epoch 22/100\n",
      "78197/78200 [============================>.] - ETA: 0s - loss: 0.4015 - accuracy: 0.9103\n",
      "Epoch 22: val_accuracy did not improve from 0.95304\n",
      "78200/78200 [==============================] - 438s 6ms/step - loss: 0.4015 - accuracy: 0.9103 - val_loss: 0.2417 - val_accuracy: 0.9347\n",
      "Epoch 23/100\n",
      "78189/78200 [============================>.] - ETA: 0s - loss: 0.4067 - accuracy: 0.9072\n",
      "Epoch 23: val_accuracy did not improve from 0.95304\n",
      "78200/78200 [==============================] - 300s 4ms/step - loss: 0.4066 - accuracy: 0.9072 - val_loss: 0.2360 - val_accuracy: 0.9399\n",
      "Epoch 24/100\n",
      "78198/78200 [============================>.] - ETA: 0s - loss: 0.4094 - accuracy: 0.9080\n",
      "Epoch 24: val_accuracy did not improve from 0.95304\n",
      "78200/78200 [==============================] - 484s 6ms/step - loss: 0.4094 - accuracy: 0.9080 - val_loss: 0.2808 - val_accuracy: 0.9420\n",
      "Epoch 25/100\n",
      "78188/78200 [============================>.] - ETA: 0s - loss: 0.4272 - accuracy: 0.9047\n",
      "Epoch 25: val_accuracy did not improve from 0.95304\n",
      "Restoring model weights from the end of the best epoch: 15.\n",
      "78200/78200 [==============================] - 607s 8ms/step - loss: 0.4272 - accuracy: 0.9047 - val_loss: 0.2641 - val_accuracy: 0.9383\n",
      "Epoch 25: early stopping\n"
     ]
    }
   ],
   "source": [
    "time1 = time.time()\n",
    "history = model.fit_generator(\n",
    "    train_generator, \n",
    "    validation_data=test_generator,\n",
    "    epochs=epochs,\n",
    "    steps_per_epoch=train_dataset_count/batch_size,\n",
    "    verbose=1,\n",
    "    callbacks=callbacks\n",
    "    )\n",
    "time2 = time.time()"
   ]
  },
  {
   "cell_type": "code",
   "execution_count": 12,
   "id": "92027e5c",
   "metadata": {},
   "outputs": [
    {
     "name": "stdout",
     "output_type": "stream",
     "text": [
      "228.75613354444505 mins\n"
     ]
    }
   ],
   "source": [
    "print(f'{(time2 - time1)/60} mins')"
   ]
  },
  {
   "cell_type": "code",
   "execution_count": 13,
   "id": "7399e642",
   "metadata": {},
   "outputs": [
    {
     "data": {
      "text/plain": [
       "dict_keys(['loss', 'accuracy', 'val_loss', 'val_accuracy'])"
      ]
     },
     "execution_count": 13,
     "metadata": {},
     "output_type": "execute_result"
    }
   ],
   "source": [
    "history.history.keys()"
   ]
  },
  {
   "cell_type": "code",
   "execution_count": 14,
   "id": "33f4e269",
   "metadata": {},
   "outputs": [
    {
     "data": {
      "image/png": "[encoded data removed]",
      "text/plain": [
       "<Figure size 432x288 with 1 Axes>"
      ]
     },
     "metadata": {
      "needs_background": "light"
     },
     "output_type": "display_data"
    },
    {
     "data": {
      "text/plain": [
       "<Figure size 432x288 with 0 Axes>"
      ]
     },
     "metadata": {},
     "output_type": "display_data"
    }
   ],
   "source": [
    "#Accuracy plotting\n",
    "plt.plot(history.history['accuracy'], label='train_acc')\n",
    "plt.plot(history.history['val_accuracy'], label='val_acc')\n",
    "plt.title('model accuracy')\n",
    "plt.ylabel('accuracy')\n",
    "plt.xlabel('epochs')\n",
    "plt.legend()\n",
    "plt.grid()\n",
    "plt.show()\n",
    "plt.savefig('model_acc.png')"
   ]
  },
  {
   "cell_type": "code",
   "execution_count": 15,
   "id": "be301535",
   "metadata": {},
   "outputs": [
    {
     "data": {
      "image/png": "[encoded data removed]",
      "text/plain": [
       "<Figure size 432x288 with 1 Axes>"
      ]
     },
     "metadata": {
      "needs_background": "light"
     },
     "output_type": "display_data"
    },
    {
     "data": {
      "text/plain": [
       "<Figure size 432x288 with 0 Axes>"
      ]
     },
     "metadata": {},
     "output_type": "display_data"
    }
   ],
   "source": [
    "#Accuracy plotting\n",
    "plt.plot(history.history['loss'], label='train_loss')\n",
    "plt.plot(history.history['val_loss'], label='val_loss')\n",
    "plt.title('model loss')\n",
    "plt.ylabel('loss')\n",
    "plt.xlabel('epochs')\n",
    "plt.legend()\n",
    "plt.grid()\n",
    "plt.show()\n",
    "plt.savefig('model_loss.png')"
   ]
  },
  {
   "cell_type": "code",
   "execution_count": 16,
   "id": "52577518",
   "metadata": {},
   "outputs": [],
   "source": [
    "model.save('cnnmodelfordevnagarik.h5')"
   ]
  },
  {
   "cell_type": "code",
   "execution_count": null,
   "id": "2aae7d86",
   "metadata": {},
   "outputs": [],
   "source": []
  }
 ],
 "metadata": {
  "kernelspec": {
   "display_name": "Python 3 (ipykernel)",
   "language": "python",
   "name": "python3"
  },
  "language_info": {
   "codemirror_mode": {
    "name": "ipython",
    "version": 3
   },
   "file_extension": ".py",
   "mimetype": "text/x-python",
   "name": "python",
   "nbconvert_exporter": "python",
   "pygments_lexer": "ipython3",
   "version": "3.9.12"
  }
 },
 "nbformat": 4,
 "nbformat_minor": 5
}
